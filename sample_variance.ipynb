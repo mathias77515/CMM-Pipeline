{
 "cells": [
  {
   "cell_type": "code",
   "execution_count": 1,
   "id": "28049bc6-80e4-4591-91cb-c7200bf58795",
   "metadata": {},
   "outputs": [],
   "source": [
    "import pysm3\n",
    "import pysm3.units as u\n",
    "import healpy as hp\n",
    "import numpy as np"
   ]
  },
  {
   "cell_type": "code",
   "execution_count": 2,
   "id": "148bfd6d-3dff-4d5d-befd-23c4eebf4449",
   "metadata": {},
   "outputs": [],
   "source": [
    "sky = pysm3.Sky(nside=16, preset_strings=[\"d0\"])"
   ]
  },
  {
   "cell_type": "code",
   "execution_count": 8,
   "id": "2066d3b3-8bf2-497c-a21f-6beae58c62be",
   "metadata": {},
   "outputs": [
    {
     "name": "stdout",
     "output_type": "stream",
     "text": [
      "<pysm3.models.dust.ModifiedBlackBody object at 0x7d7e9934f2b0>\n"
     ]
    }
   ],
   "source": [
    "print(sky.components[0])"
   ]
  },
  {
   "cell_type": "code",
   "execution_count": 16,
   "id": "c1683c58-30a1-4ee1-8776-171eebd5d690",
   "metadata": {},
   "outputs": [
    {
     "name": "stdout",
     "output_type": "stream",
     "text": [
      "{'nside': 16, 'max_nside': 512, 'map_dist': None, 'is_IQU': False, 'I_ref': <Quantity [10.952313, 13.483639, 13.985196, ..., 19.231962, 20.067163,\n",
      "           16.54645 ] uK_RJ>, 'freq_ref_I': <Quantity 545. GHz>, 'has_polarization': True, 'Q_ref': <Quantity [ 0.41196772,  0.02567184,  0.22280292, ...,  0.839152  ,\n",
      "           -0.25009388,  0.8490269 ] uK_RJ>, 'U_ref': <Quantity [-0.26701713,  0.02280764,  0.07954635, ..., -1.1527363 ,\n",
      "            1.049307  , -0.56294894] uK_RJ>, 'freq_ref_P': <Quantity 353. GHz>, 'mbb_index': <Quantity 1.54>, 'mbb_temperature': <Quantity 20. K>}\n"
     ]
    }
   ],
   "source": [
    "dust_i = sky.components[0]\n",
    "# dust_q = sky.components[1]\n",
    "# dust_u = sky.components[2]\n",
    "print(dust_i.__dict__)"
   ]
  },
  {
   "cell_type": "code",
   "execution_count": null,
   "id": "6ca4dace-7cb4-4e30-9c11-7e21e1de1739",
   "metadata": {},
   "outputs": [],
   "source": [
    "center = # in GC\n",
    "center = \n",
    "centralvec = hp.ang2vec(center[0],center[1],lonlat=True)\n",
    "radius_for_disc = np.deg2rad(1) #input in degree, output in rad\n",
    "\n",
    "pixs_in_disc = hp.query_disc(nside, centralvec, radius_for_disc)"
   ]
  },
  {
   "cell_type": "code",
   "execution_count": null,
   "id": "c86296a7-60a8-49fb-b984-73794f66516b",
   "metadata": {},
   "outputs": [],
   "source": [
    "## convolution operator\n",
    "C = HealpixConvolutionGaussianOperator(fwhm=self.joint_in.qubic.allfwhm[-1], lmax=2*self.params['MapMaking']['qubic']['nside'])\n",
    "\n",
    "##cmb\n",
    "r = \n",
    "Alens=\n",
    "cmb_seed =\n",
    "mycls = give_cl_cmb(r=r, Alens=Alens)\n",
    "np.random.seed(cmb_seed)\n",
    "cmb = hp.synfast(mycls, nside, verbose=False, new=True).T\n",
    "\n",
    "##dust\n",
    "dust_model = 'd0'\n",
    "sky=pysm3.Sky(nside=nside, preset_strings=[dust_model], output_unit=\"uK_CMB\")\n",
    "sky.components[0].mbb_temperature = 20*sky.components[0].mbb_temperature.unit\n",
    "map_dust = np.array(sky.get_emission(self.params['Foregrounds']['nu0_d'] * u.GHz, None).T * \\utils.bandpass_unit_conversion(self.params['Foregrounds']['nu0_d']*u.GHz, None, u.uK_CMB))\n",
    "\n"
   ]
  },
  {
   "cell_type": "code",
   "execution_count": null,
   "id": "4a551d56-d1f8-4762-b470-3716ac03a3b4",
   "metadata": {},
   "outputs": [],
   "source": [
    "sky.get_emission()"
   ]
  },
  {
   "cell_type": "code",
   "execution_count": null,
   "id": "61104f6d-a5de-4e45-af2a-fa17303f3886",
   "metadata": {},
   "outputs": [],
   "source": []
  }
 ],
 "metadata": {
  "kernelspec": {
   "display_name": "Python 3 (ipykernel)",
   "language": "python",
   "name": "python3"
  },
  "language_info": {
   "codemirror_mode": {
    "name": "ipython",
    "version": 3
   },
   "file_extension": ".py",
   "mimetype": "text/x-python",
   "name": "python",
   "nbconvert_exporter": "python",
   "pygments_lexer": "ipython3",
   "version": "3.9.18"
  }
 },
 "nbformat": 4,
 "nbformat_minor": 5
}
